{
  "nbformat": 4,
  "nbformat_minor": 0,
  "metadata": {
    "colab": {
      "provenance": [],
      "include_colab_link": true
    },
    "kernelspec": {
      "name": "python3",
      "display_name": "Python 3"
    },
    "language_info": {
      "name": "python"
    }
  },
  "cells": [
    {
      "cell_type": "markdown",
      "metadata": {
        "id": "view-in-github",
        "colab_type": "text"
      },
      "source": [
        "<a href=\"https://colab.research.google.com/github/mattmartinez45/PNG_Training/blob/main/Copy_of_PNG_HW2.ipynb\" target=\"_parent\"><img src=\"https://colab.research.google.com/assets/colab-badge.svg\" alt=\"Open In Colab\"/></a>"
      ]
    },
    {
      "cell_type": "markdown",
      "source": [
        "Paragon National Group Winter 2023\n",
        "Computer Science Track\n",
        "HW 2\n",
        "\n",
        "Assigned: January 16, 2022\n",
        "Due: January 22, 2022 11:59pm\n",
        "\n",
        "This is the second programming assignment of the computer science track. For each function, a skeleton is provided, where your job is to fill the *TODO* out. The questions will cover the topics learned in the second lecture, which entailed conditionals, recursive functions, and for and while loops."
      ],
      "metadata": {
        "id": "RWFyCcQ9nc4Q"
      }
    },
    {
      "cell_type": "code",
      "source": [
        "# This function takes a natural number as an argument (so it can't be negative) \n",
        "# and returns a boolean value of true or false that shows whether the inputted \n",
        "# number is a palindrome or not. A palindrome is something that reads the same \n",
        "# backward as forward (i.e. '2002'). Use a for or while for the implementation \n",
        "# of this function.\n",
        "# Ex) iterative_palindrome(1) -> true\n",
        "#     iterative_palindrome(12) -> false\n",
        "#     iterative_palindrome(2468642) -> true\n",
        "def iterative_palindrome(n):\n",
        "    n = str(n)\n",
        "\n",
        "    reversed = \"\"\n",
        "    for i in range(len(n), 0, -1):\n",
        "      reversed += n[i-1]\n",
        "\n",
        "    return n == reversed\n",
        "# test functions\n",
        "print(iterative_palindrome(1))\n",
        "print(iterative_palindrome(12))\n",
        "print(iterative_palindrome(2468642))"
      ],
      "metadata": {
        "id": "YjN_xx_EnnVy",
        "colab": {
          "base_uri": "https://localhost:8080/"
        },
        "outputId": "b4577fd7-33bb-4b74-9966-32cf9f02c349"
      },
      "execution_count": 17,
      "outputs": [
        {
          "output_type": "stream",
          "name": "stdout",
          "text": [
            "True\n",
            "False\n",
            "True\n"
          ]
        }
      ]
    },
    {
      "cell_type": "code",
      "source": [
        "# This function is the same as iterative_palindrome() except instead of using a\n",
        "# loop, implement the function in a recursive way.\n",
        "# Ex) recursive_palindrome(1) -> true\n",
        "#     recursive_palindrome(12) -> false\n",
        "#     recursive_palindrome(2468642) -> true\n",
        "def recursive_palindrome(n):\n",
        "    string = str(n)\n",
        "    reversed = string[::-1]\n",
        "\n",
        "    return string == reversed\n",
        "print(recursive_palindrome(1))\n",
        "print(recursive_palindrome(12))\n",
        "print(recursive_palindrome(2468642))"
      ],
      "metadata": {
        "id": "NawDWFCBnzrY",
        "colab": {
          "base_uri": "https://localhost:8080/"
        },
        "outputId": "e004b4c9-ffcd-4fc6-81e1-1fbaa46d4329"
      },
      "execution_count": 7,
      "outputs": [
        {
          "output_type": "stream",
          "name": "stdout",
          "text": [
            "True\n",
            "False\n",
            "True\n"
          ]
        }
      ]
    },
    {
      "cell_type": "code",
      "execution_count": 22,
      "metadata": {
        "id": "A08W94p6mzMG",
        "colab": {
          "base_uri": "https://localhost:8080/"
        },
        "outputId": "4a92661c-ff24-472f-88e5-0378a15a660a"
      },
      "outputs": [
        {
          "output_type": "stream",
          "name": "stdout",
          "text": [
            "['crisp-cornered', 'old-fashioned,']\n"
          ]
        }
      ],
      "source": [
        "# This function reads a file and returns the longest word in the file.\n",
        "def longest_word(fname):\n",
        "    with open(fname, 'r') as f:\n",
        "      words = f.read().split()\n",
        "    \n",
        "    longest = max(len(word) for word in words)\n",
        "\n",
        "    return [w for w in words if len (w) == longest]\n",
        "\n",
        "print(longest_word('PNG_HW2_textfile.txt'))"
      ]
    }
  ]
}