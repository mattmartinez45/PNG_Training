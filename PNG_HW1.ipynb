{
  "nbformat": 4,
  "nbformat_minor": 0,
  "metadata": {
    "colab": {
      "provenance": [],
      "include_colab_link": true
    },
    "kernelspec": {
      "name": "python3",
      "display_name": "Python 3"
    },
    "language_info": {
      "name": "python"
    }
  },
  "cells": [
    {
      "cell_type": "markdown",
      "metadata": {
        "id": "view-in-github",
        "colab_type": "text"
      },
      "source": [
        "<a href=\"https://colab.research.google.com/github/mattmartinez45/PNG_Training/blob/main/PNG_HW1.ipynb\" target=\"_parent\"><img src=\"https://colab.research.google.com/assets/colab-badge.svg\" alt=\"Open In Colab\"/></a>"
      ]
    },
    {
      "cell_type": "markdown",
      "source": [
        "Paragon National Group Spring 2022\n",
        "Computer Science / Data Science Track\n",
        "HW 1\n",
        "\n",
        "Assigned: March 29, 2022\n",
        "Due: April 4, 2022 11:59pm\n",
        "\n",
        "This is the first programming assignment of the computer science track. For each function, a skeleton is provided, where your job is to fill the *TODO* out. Each function is followed by a few lines of code to test if your function works properly. The questions will cover the topics learned in the first lecture, which entailed print statements, various data types, variables, basic operations, and conditionals."
      ],
      "metadata": {
        "id": "uVALs4MG4rSl"
      }
    },
    {
      "cell_type": "code",
      "source": [
        "# This function prints out a sentence saying \"Welcome to the start of the PNG CS\n",
        "# track\"\n",
        "def print_welcome_message():\n",
        "    print('Welcome to the start of the PNG CS track')\n",
        "\n",
        "# For testing\n",
        "print_welcome_message()"
      ],
      "metadata": {
        "id": "QA6vGQO344pM",
        "colab": {
          "base_uri": "https://localhost:8080/"
        },
        "outputId": "b24906f6-d69e-4aa7-a6c5-761a39781e2c"
      },
      "execution_count": 1,
      "outputs": [
        {
          "output_type": "stream",
          "name": "stdout",
          "text": [
            "Welcome to the start of the PNG CS track\n"
          ]
        }
      ]
    },
    {
      "cell_type": "code",
      "source": [
        "# This function takes the number of cents as an argument and prints the best \n",
        "# combination of quarters, dimes, nickels, and pennies in descending order of\n",
        "# importance (i.e. 25 cents can be split into 25 pennies, but quarters is more\n",
        "# important, thus it would be split into 1 quarter). Assume that the argument given\n",
        "# is non-negative.\n",
        "# Ex) split_change(1) -> 0 quarters, 0 dimes, 0 nickels, 1 penny\n",
        "#     split_change(20) -> 0 quarters, 2 dimes, 0 nickels, 0 pennies\n",
        "#     split_change(67) -> 2 quarters, 1 dime, 1 nickel, 2 pennies \n",
        "def split_change(cents):\n",
        "    q = cents//25\n",
        "    name_q = \" quarters, \"\n",
        "    if q == 1:\n",
        "      name_q = \" quarter, \"\n",
        "    after_q = cents%25\n",
        "    d = after_q//10\n",
        "    name_d = \" dimes, \"\n",
        "    if d == 1:\n",
        "      name_d = \" dime, \"\n",
        "    after_d = after_q%10\n",
        "    n = after_d//5\n",
        "    name_n = \" nickels, \"\n",
        "    if n == 1:\n",
        "      name_n = \" nickel, \"\n",
        "    p = after_d%5\n",
        "    name_p = \" pennies\"\n",
        "    if p == 1:\n",
        "      name_p = \" penny\"\n",
        "    print(str(q) + name_q + str(d) + name_d + str(n) + name_n \\\n",
        "          + str(p) + name_p)\n",
        "\n",
        "# For testing (it is encouraged to test other values as well)\n",
        "split_change(1)\n",
        "split_change(20)\n",
        "split_change(67)"
      ],
      "metadata": {
        "id": "ctrPjoQT470p",
        "colab": {
          "base_uri": "https://localhost:8080/"
        },
        "outputId": "ba45ffb1-5e2b-4a65-8fa4-b52f6e266675"
      },
      "execution_count": 8,
      "outputs": [
        {
          "output_type": "stream",
          "name": "stdout",
          "text": [
            "0 quarters, 0 dimes, 0 nickels, 1 penny\n",
            "0 quarters, 2 dimes, 0 nickels, 0 pennies\n",
            "2 quarters, 1 dime, 1 nickel, 2 pennies\n"
          ]
        }
      ]
    },
    {
      "cell_type": "code",
      "source": [
        "# This function takes an array of strings of finite length (the strings can only \n",
        "# either be 'H', 'h', 'T' or 't') as arguments and returns the number of heads \n",
        "# as an integer. Assume that no other strings can be inputted other than those \n",
        "# four types.\n",
        "# Ex) number_of_heads(['H', 'h', 'H', 'H', 'h', 'h', 'H']) -> 7\n",
        "#     number_of_heads(['H', 'T', 'H', 't']) -> 2\n",
        "#     number_of_heads([]) -> 0\n",
        "def number_of_heads(coin_array):\n",
        "    count = 0\n",
        "    for i in coin_array:\n",
        "      if i == \"H\" or i == \"h\":\n",
        "        count += 1\n",
        "    return count\n",
        "\n",
        "# For testing (it is encouraged to test other values as well)\n",
        "print(number_of_heads(['H', 'h', 'H', 'H', 'h', 'h', 'H']))\n",
        "print(number_of_heads(['H', 'T', 'H', 't']))\n",
        "print(number_of_heads([]))"
      ],
      "metadata": {
        "id": "flIUWBz64_I0",
        "colab": {
          "base_uri": "https://localhost:8080/"
        },
        "outputId": "a232320e-3d13-4e71-e2dc-be0a9f92c30e"
      },
      "execution_count": 12,
      "outputs": [
        {
          "output_type": "stream",
          "name": "stdout",
          "text": [
            "7\n",
            "2\n",
            "0\n"
          ]
        }
      ]
    },
    {
      "cell_type": "code",
      "source": [
        "# This function takes two dictionaries and returns a single merged dictionary.\n",
        "# If there is a repeated key in both dictionaries, then set the value of that\n",
        "# key in the merged dictionary as the value for that key in dict1\n",
        "# Ex) merge_dictionaries({}, {})\n",
        "#       -> {}\n",
        "#     merge_dictionaries({'PNG': 'Winter'}, {'CS': 'Winter'})\n",
        "#       -> {'PNG': 'Winter', 'CS': 'Winter'}\n",
        "#     merge_dictionaries({'PNG': 'Winter'}, {'PNG': 'Fall'})\n",
        "#       -> {'PNG': 'Winter'}\n",
        "#     merge_dictionaries({'PNG': 'Winter', 'CS': 'Fall'}, {'Quant': 'Spring'})\n",
        "#       -> {'PNG': 'Winter', 'CS': 'Fall', 'Quant': 'Spring'}\n",
        "def merge_dictionaries(dict1, dict2):\n",
        "    for k, v in dict2.items():\n",
        "      if k not in dict1:\n",
        "          dict1[k] = v\n",
        "    return dict1\n",
        "\n",
        "# For testing (it is encouraged to test other values as well)\n",
        "print(merge_dictionaries({'PNG': 'Winter'}, {'CS': 'Winter'}))\n",
        "print(merge_dictionaries({'PNG': 'Winter'}, {'PNG': 'Fall'}))\n",
        "print(merge_dictionaries({'PNG': 'Winter', 'CS': 'Fall'}, {'Quant': 'Spring'}))"
      ],
      "metadata": {
        "id": "kKUWAFnp5Fjv",
        "colab": {
          "base_uri": "https://localhost:8080/"
        },
        "outputId": "bd55e404-2abe-4edf-f468-4f87d0c766aa"
      },
      "execution_count": 13,
      "outputs": [
        {
          "output_type": "stream",
          "name": "stdout",
          "text": [
            "{'PNG': 'Winter', 'CS': 'Winter'}\n",
            "{'PNG': 'Winter'}\n",
            "{'PNG': 'Winter', 'CS': 'Fall', 'Quant': 'Spring'}\n"
          ]
        }
      ]
    }
  ]
}